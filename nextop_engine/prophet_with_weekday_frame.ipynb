{
 "cells": [
  {
   "cell_type": "code",
   "execution_count": 1,
   "metadata": {
    "collapsed": true
   },
   "outputs": [],
   "source": [
    "from _element import feature_control as ft_c"
   ]
  },
  {
   "cell_type": "code",
   "execution_count": 2,
   "metadata": {
    "collapsed": true
   },
   "outputs": [],
   "source": [
    "from _usecase import algorithm_prophet as prpt"
   ]
  },
  {
   "cell_type": "code",
   "execution_count": 3,
   "metadata": {
    "collapsed": true
   },
   "outputs": [],
   "source": [
    "from _element import calculations as calc"
   ]
  },
  {
   "cell_type": "code",
   "execution_count": 4,
   "metadata": {
    "collapsed": true
   },
   "outputs": [],
   "source": [
    "import pandas as pd"
   ]
  },
  {
   "cell_type": "code",
   "execution_count": 5,
   "metadata": {
    "collapsed": true
   },
   "outputs": [],
   "source": [
    "from datetime import datetime"
   ]
  },
  {
   "cell_type": "code",
   "execution_count": 6,
   "metadata": {
    "collapsed": true
   },
   "outputs": [],
   "source": [
    "from _element import varr"
   ]
  },
  {
   "cell_type": "code",
   "execution_count": 7,
   "metadata": {},
   "outputs": [],
   "source": [
    "INPUT_FILENAME= 'KPP일별투입(10_17)_withobject.xlsx'"
   ]
  },
  {
   "cell_type": "code",
   "execution_count": 8,
   "metadata": {
    "collapsed": true
   },
   "outputs": [],
   "source": [
    "df_raw= ft_c.xlsx_opener(varr.PJ_DIR+varr.DF_DIR, INPUT_FILENAME)"
   ]
  },
  {
   "cell_type": "code",
   "execution_count": 9,
   "metadata": {
    "collapsed": true
   },
   "outputs": [],
   "source": [
    "df_temp= ft_c.xlsx_opener(varr.PJ_DIR+varr.TEMP_DATA_DIR, 'temp_data_merged.xlsx')"
   ]
  },
  {
   "cell_type": "code",
   "execution_count": 10,
   "metadata": {
    "collapsed": true
   },
   "outputs": [],
   "source": [
    "y_col= df_raw.columns.values.tolist()"
   ]
  },
  {
   "cell_type": "code",
   "execution_count": 11,
   "metadata": {
    "collapsed": true
   },
   "outputs": [],
   "source": [
    "try:\n",
    "    y_col.remove('ds')\n",
    "except ValueError:\n",
    "    pass"
   ]
  },
  {
   "cell_type": "code",
   "execution_count": 12,
   "metadata": {},
   "outputs": [
    {
     "data": {
      "text/plain": [
       "[1041, 1692, 1815, 1853, 1878]"
      ]
     },
     "execution_count": 12,
     "metadata": {},
     "output_type": "execute_result"
    }
   ],
   "source": [
    "y_col"
   ]
  },
  {
   "cell_type": "code",
   "execution_count": 13,
   "metadata": {
    "collapsed": true
   },
   "outputs": [],
   "source": [
    "x_col= df_temp.columns.values.tolist()"
   ]
  },
  {
   "cell_type": "code",
   "execution_count": 14,
   "metadata": {},
   "outputs": [
    {
     "data": {
      "text/plain": [
       "['ds', 'temp_max', 'temp_min', 'rain_amount']"
      ]
     },
     "execution_count": 14,
     "metadata": {},
     "output_type": "execute_result"
    }
   ],
   "source": [
    "x_col"
   ]
  },
  {
   "cell_type": "code",
   "execution_count": 15,
   "metadata": {
    "collapsed": true
   },
   "outputs": [],
   "source": [
    "df_raw['ds']= pd.to_datetime(df_raw['ds'], box=True, format= '%Y/%m/%d', exact=True)"
   ]
  },
  {
   "cell_type": "code",
   "execution_count": 16,
   "metadata": {
    "collapsed": true
   },
   "outputs": [],
   "source": [
    "df_temp['ds']= pd.to_datetime(df_temp['ds'], box=True, format= '%Y/%m/%d', exact=True)"
   ]
  },
  {
   "cell_type": "code",
   "execution_count": 17,
   "metadata": {
    "collapsed": true
   },
   "outputs": [],
   "source": [
    "df_raw= pd.merge(df_raw, df_temp, how='inner', on='ds')"
   ]
  },
  {
   "cell_type": "code",
   "execution_count": 18,
   "metadata": {},
   "outputs": [
    {
     "data": {
      "text/html": [
       "<div>\n",
       "<style>\n",
       "    .dataframe thead tr:only-child th {\n",
       "        text-align: right;\n",
       "    }\n",
       "\n",
       "    .dataframe thead th {\n",
       "        text-align: left;\n",
       "    }\n",
       "\n",
       "    .dataframe tbody tr th {\n",
       "        vertical-align: top;\n",
       "    }\n",
       "</style>\n",
       "<table border=\"1\" class=\"dataframe\">\n",
       "  <thead>\n",
       "    <tr style=\"text-align: right;\">\n",
       "      <th></th>\n",
       "      <th>ds</th>\n",
       "      <th>1041</th>\n",
       "      <th>1692</th>\n",
       "      <th>1815</th>\n",
       "      <th>1853</th>\n",
       "      <th>1878</th>\n",
       "      <th>temp_max</th>\n",
       "      <th>temp_min</th>\n",
       "      <th>rain_amount</th>\n",
       "    </tr>\n",
       "  </thead>\n",
       "  <tbody>\n",
       "    <tr>\n",
       "      <th>0</th>\n",
       "      <td>2010-07-01</td>\n",
       "      <td>5698</td>\n",
       "      <td>9534</td>\n",
       "      <td>44580</td>\n",
       "      <td>5328</td>\n",
       "      <td>4003</td>\n",
       "      <td>30.500000</td>\n",
       "      <td>24.900000</td>\n",
       "      <td>0.0</td>\n",
       "    </tr>\n",
       "    <tr>\n",
       "      <th>1</th>\n",
       "      <td>2010-07-02</td>\n",
       "      <td>2740</td>\n",
       "      <td>7910</td>\n",
       "      <td>44920</td>\n",
       "      <td>6644</td>\n",
       "      <td>5629</td>\n",
       "      <td>25.799999</td>\n",
       "      <td>22.700001</td>\n",
       "      <td>70.0</td>\n",
       "    </tr>\n",
       "    <tr>\n",
       "      <th>2</th>\n",
       "      <td>2010-07-03</td>\n",
       "      <td>2742</td>\n",
       "      <td>4176</td>\n",
       "      <td>26213</td>\n",
       "      <td>5111</td>\n",
       "      <td>2706</td>\n",
       "      <td>25.600000</td>\n",
       "      <td>22.600000</td>\n",
       "      <td>1.0</td>\n",
       "    </tr>\n",
       "    <tr>\n",
       "      <th>3</th>\n",
       "      <td>2010-07-04</td>\n",
       "      <td>0</td>\n",
       "      <td>0</td>\n",
       "      <td>299</td>\n",
       "      <td>746</td>\n",
       "      <td>0</td>\n",
       "      <td>29.700001</td>\n",
       "      <td>23.100000</td>\n",
       "      <td>0.0</td>\n",
       "    </tr>\n",
       "    <tr>\n",
       "      <th>4</th>\n",
       "      <td>2010-07-05</td>\n",
       "      <td>3451</td>\n",
       "      <td>4844</td>\n",
       "      <td>39234</td>\n",
       "      <td>5927</td>\n",
       "      <td>2700</td>\n",
       "      <td>30.600000</td>\n",
       "      <td>21.799999</td>\n",
       "      <td>0.0</td>\n",
       "    </tr>\n",
       "  </tbody>\n",
       "</table>\n",
       "</div>"
      ],
      "text/plain": [
       "          ds  1041  1692   1815  1853  1878   temp_max   temp_min  rain_amount\n",
       "0 2010-07-01  5698  9534  44580  5328  4003  30.500000  24.900000          0.0\n",
       "1 2010-07-02  2740  7910  44920  6644  5629  25.799999  22.700001         70.0\n",
       "2 2010-07-03  2742  4176  26213  5111  2706  25.600000  22.600000          1.0\n",
       "3 2010-07-04     0     0    299   746     0  29.700001  23.100000          0.0\n",
       "4 2010-07-05  3451  4844  39234  5927  2700  30.600000  21.799999          0.0"
      ]
     },
     "execution_count": 18,
     "metadata": {},
     "output_type": "execute_result"
    }
   ],
   "source": [
    "df_raw.head()"
   ]
  },
  {
   "cell_type": "code",
   "execution_count": 19,
   "metadata": {
    "collapsed": true
   },
   "outputs": [],
   "source": [
    "df_weekday_0= df_raw.loc[df_raw.ds.apply(lambda x: x.weekday())==0]\n",
    "df_weekday_1= df_raw.loc[df_raw.ds.apply(lambda x: x.weekday())==1]\n",
    "df_weekday_2= df_raw.loc[df_raw.ds.apply(lambda x: x.weekday())==2]\n",
    "df_weekday_3= df_raw.loc[df_raw.ds.apply(lambda x: x.weekday())==3]\n",
    "df_weekday_4= df_raw.loc[df_raw.ds.apply(lambda x: x.weekday())==4]\n",
    "df_weekday_5= df_raw.loc[df_raw.ds.apply(lambda x: x.weekday())==5]\n",
    "df_weekday_6= df_raw.loc[df_raw.ds.apply(lambda x: x.weekday())==6]"
   ]
  },
  {
   "cell_type": "code",
   "execution_count": 20,
   "metadata": {},
   "outputs": [
    {
     "name": "stderr",
     "output_type": "stream",
     "text": [
      "INFO:fbprophet.forecaster:Disabling weekly seasonality. Run prophet with weekly_seasonality=True to override this.\n",
      "INFO:fbprophet.forecaster:Disabling weekly seasonality. Run prophet with weekly_seasonality=True to override this.\n",
      "INFO:fbprophet.forecaster:Disabling weekly seasonality. Run prophet with weekly_seasonality=True to override this.\n",
      "INFO:fbprophet.forecaster:Disabling weekly seasonality. Run prophet with weekly_seasonality=True to override this.\n",
      "INFO:fbprophet.forecaster:Disabling weekly seasonality. Run prophet with weekly_seasonality=True to override this.\n",
      "INFO:fbprophet.forecaster:Disabling weekly seasonality. Run prophet with weekly_seasonality=True to override this.\n",
      "INFO:fbprophet.forecaster:Disabling weekly seasonality. Run prophet with weekly_seasonality=True to override this.\n",
      "INFO:fbprophet.forecaster:Disabling weekly seasonality. Run prophet with weekly_seasonality=True to override this.\n",
      "INFO:fbprophet.forecaster:Disabling weekly seasonality. Run prophet with weekly_seasonality=True to override this.\n",
      "INFO:fbprophet.forecaster:Disabling weekly seasonality. Run prophet with weekly_seasonality=True to override this.\n",
      "INFO:fbprophet.forecaster:Disabling weekly seasonality. Run prophet with weekly_seasonality=True to override this.\n",
      "INFO:fbprophet.forecaster:Disabling weekly seasonality. Run prophet with weekly_seasonality=True to override this.\n",
      "INFO:fbprophet.forecaster:Disabling weekly seasonality. Run prophet with weekly_seasonality=True to override this.\n",
      "INFO:fbprophet.forecaster:Disabling weekly seasonality. Run prophet with weekly_seasonality=True to override this.\n",
      "INFO:fbprophet.forecaster:Disabling weekly seasonality. Run prophet with weekly_seasonality=True to override this.\n",
      "INFO:fbprophet.forecaster:Disabling weekly seasonality. Run prophet with weekly_seasonality=True to override this.\n",
      "INFO:fbprophet.forecaster:Disabling weekly seasonality. Run prophet with weekly_seasonality=True to override this.\n",
      "INFO:fbprophet.forecaster:Disabling weekly seasonality. Run prophet with weekly_seasonality=True to override this.\n",
      "INFO:fbprophet.forecaster:Disabling weekly seasonality. Run prophet with weekly_seasonality=True to override this.\n",
      "INFO:fbprophet.forecaster:Disabling weekly seasonality. Run prophet with weekly_seasonality=True to override this.\n",
      "INFO:fbprophet.forecaster:Disabling weekly seasonality. Run prophet with weekly_seasonality=True to override this.\n",
      "INFO:fbprophet.forecaster:Disabling weekly seasonality. Run prophet with weekly_seasonality=True to override this.\n",
      "INFO:fbprophet.forecaster:Disabling weekly seasonality. Run prophet with weekly_seasonality=True to override this.\n",
      "INFO:fbprophet.forecaster:Disabling weekly seasonality. Run prophet with weekly_seasonality=True to override this.\n",
      "INFO:fbprophet.forecaster:Disabling weekly seasonality. Run prophet with weekly_seasonality=True to override this.\n",
      "INFO:fbprophet.forecaster:Disabling weekly seasonality. Run prophet with weekly_seasonality=True to override this.\n",
      "INFO:fbprophet.forecaster:Disabling weekly seasonality. Run prophet with weekly_seasonality=True to override this.\n",
      "INFO:fbprophet.forecaster:Disabling weekly seasonality. Run prophet with weekly_seasonality=True to override this.\n",
      "INFO:fbprophet.forecaster:Disabling weekly seasonality. Run prophet with weekly_seasonality=True to override this.\n",
      "INFO:fbprophet.forecaster:Disabling weekly seasonality. Run prophet with weekly_seasonality=True to override this.\n",
      "INFO:fbprophet.forecaster:Disabling weekly seasonality. Run prophet with weekly_seasonality=True to override this.\n",
      "INFO:fbprophet.forecaster:Disabling weekly seasonality. Run prophet with weekly_seasonality=True to override this.\n",
      "INFO:fbprophet.forecaster:Disabling weekly seasonality. Run prophet with weekly_seasonality=True to override this.\n",
      "INFO:fbprophet.forecaster:Disabling weekly seasonality. Run prophet with weekly_seasonality=True to override this.\n",
      "INFO:fbprophet.forecaster:Disabling weekly seasonality. Run prophet with weekly_seasonality=True to override this.\n"
     ]
    }
   ],
   "source": [
    "result_dict= {}\n",
    "for y in y_col:\n",
    "    result_dict[y]= {\n",
    "                    'mon': prpt.Bayseian2(df_weekday_0, varr.FORECASTDAY, y, x_col, 'week'),\\\n",
    "                    'tue': prpt.Bayseian2(df_weekday_1, varr.FORECASTDAY, y, x_col, 'week'),\\\n",
    "                    'wed': prpt.Bayseian2(df_weekday_2, varr.FORECASTDAY, y, x_col, 'week'),\\\n",
    "                    'thu': prpt.Bayseian2(df_weekday_3, varr.FORECASTDAY, y, x_col, 'week'),\\\n",
    "                    'pri': prpt.Bayseian2(df_weekday_4, varr.FORECASTDAY, y, x_col, 'week'),\\\n",
    "                    'sat': prpt.Bayseian2(df_weekday_5, varr.FORECASTDAY, y, x_col, 'week'),\\\n",
    "                    'sun': prpt.Bayseian2(df_weekday_6, varr.FORECASTDAY, y, x_col, 'week'),\\\n",
    "                    }"
   ]
  },
  {
   "cell_type": "code",
   "execution_count": 21,
   "metadata": {
    "collapsed": true
   },
   "outputs": [],
   "source": [
    "merged_dict={}\n",
    "for y in y_col:\n",
    "    merged_dict[y]={'future': \n",
    "                    pd.concat([result_dict[y]['mon']['future'],\\\n",
    "                              result_dict[y]['tue']['future'],\\\n",
    "                              result_dict[y]['wed']['future'],\\\n",
    "                              result_dict[y]['thu']['future'],\\\n",
    "                              result_dict[y]['pri']['future'],\\\n",
    "                              result_dict[y]['sat']['future'],\\\n",
    "                              result_dict[y]['sun']['future']],\\\n",
    "                              axis= 0).sort_values(by='ds', axis=0),\n",
    "                   'forecastProphetTable':\n",
    "                    pd.concat([result_dict[y]['mon']['forecastProphetTable'],\\\n",
    "                              result_dict[y]['tue']['forecastProphetTable'],\\\n",
    "                              result_dict[y]['wed']['forecastProphetTable'],\\\n",
    "                              result_dict[y]['thu']['forecastProphetTable'],\\\n",
    "                              result_dict[y]['pri']['forecastProphetTable'],\\\n",
    "                              result_dict[y]['sat']['forecastProphetTable'],\\\n",
    "                              result_dict[y]['sun']['forecastProphetTable']],\\\n",
    "                              axis= 0).sort_values(by='ds', axis=0)\n",
    "                   }"
   ]
  },
  {
   "cell_type": "code",
   "execution_count": 28,
   "metadata": {
    "scrolled": true
   },
   "outputs": [
    {
     "name": "stdout",
     "output_type": "stream",
     "text": [
      "KPP일별투입(10_17)_withobject.xlsx\n",
      "RMSE with segment 1041: 1700.92122951\n",
      "MAPE with segment 1041: inf\n",
      "MAPE_with_std with segment 1041: 40.5716652071\n",
      "MAPE_div_std with segment 1041: 104.339950823\n",
      "sMAPE of company code 1041: 12.9645534218\n",
      "          ds   temp_max  temp_min  rain_amount         yhat  1041\n",
      "0 2017-11-01  17.299999      13.4          0.0  5252.519289  8615\n",
      "1 2017-11-02  18.000000      14.0          1.6  6058.602081  6794\n",
      "2 2017-11-03  15.700000       4.5          0.6  5476.709864  6946\n",
      "3 2017-11-04  12.800000       3.2          0.0  4545.476992  4092\n",
      "4 2017-11-05  14.200000       7.3          0.0     6.242562     0\n"
     ]
    },
    {
     "name": "stderr",
     "output_type": "stream",
     "text": [
      "c:\\Studying\\Project_Nextop\\nextop-engine\\nextop_engine\\_element\\calculations.py:11: RuntimeWarning: divide by zero encountered in true_divide\n",
      "  return np.mean(np.abs((y_true - y_pred) / y_true)) * 100\n"
     ]
    },
    {
     "name": "stdout",
     "output_type": "stream",
     "text": [
      "\n",
      "\n",
      "RMSE with segment 1692: 1629.92150392\n",
      "MAPE with segment 1692: inf\n",
      "MAPE_with_std with segment 1692: 22.070100784\n",
      "MAPE_div_std with segment 1692: 72.7477335519\n",
      "sMAPE of company code 1692: 4.10725408136\n",
      "          ds   temp_max  temp_min  rain_amount          yhat   1692\n",
      "0 2017-11-01  17.299999      13.4          0.0  18674.248380  19275\n",
      "1 2017-11-02  18.000000      14.0          1.6  17986.289103  19673\n",
      "2 2017-11-03  15.700000       4.5          0.6  17817.789453  19659\n",
      "3 2017-11-04  12.800000       3.2          0.0   9127.702824   8193\n",
      "4 2017-11-05  14.200000       7.3          0.0     16.059404      0\n",
      "\n",
      "\n",
      "RMSE with segment 1815: 4033.8044423\n",
      "MAPE with segment 1815: 12.0857556682\n",
      "MAPE_with_std with segment 1815: 17.2062889949\n",
      "MAPE_div_std with segment 1815: 87.3319159984\n",
      "sMAPE of company code 1815: 2.60023095412\n",
      "          ds   temp_max  temp_min  rain_amount          yhat   1815\n",
      "0 2017-11-01  17.299999      13.4          0.0  81186.639705  75861\n",
      "1 2017-11-02  18.000000      14.0          1.6  78828.701221  83256\n",
      "2 2017-11-03  15.700000       4.5          0.6  78500.476673  82649\n",
      "3 2017-11-04  12.800000       3.2          0.0  42469.649731  42707\n",
      "4 2017-11-05  14.200000       7.3          0.0    155.712889    105\n",
      "\n",
      "\n",
      "RMSE with segment 1853: 1012.88122179\n",
      "MAPE with segment 1853: inf\n",
      "MAPE_with_std with segment 1853: 39.6047431451\n",
      "MAPE_div_std with segment 1853: 99.119112249\n",
      "sMAPE of company code 1853: 8.73289994966\n",
      "          ds   temp_max  temp_min  rain_amount         yhat  1853\n",
      "0 2017-11-01  17.299999      13.4          0.0  4856.096397  5975\n",
      "1 2017-11-02  18.000000      14.0          1.6  4689.529743  6530\n",
      "2 2017-11-03  15.700000       4.5          0.6  4463.050720  7315\n",
      "3 2017-11-04  12.800000       3.2          0.0  1797.028665  2614\n",
      "4 2017-11-05  14.200000       7.3          0.0  -158.519402     0\n",
      "\n",
      "\n",
      "RMSE with segment 1878: 1264.34558876\n",
      "MAPE with segment 1878: inf\n",
      "MAPE_with_std with segment 1878: 30.887925099\n",
      "MAPE_div_std with segment 1878: 76.6172300442\n",
      "sMAPE of company code 1878: 9.97983594004\n",
      "          ds   temp_max  temp_min  rain_amount         yhat  1878\n",
      "0 2017-11-01  17.299999      13.4          0.0  6251.778926  7353\n",
      "1 2017-11-02  18.000000      14.0          1.6  6120.474090  8301\n",
      "2 2017-11-03  15.700000       4.5          0.6  5893.840086  7564\n",
      "3 2017-11-04  12.800000       3.2          0.0  2669.638414  2898\n",
      "4 2017-11-05  14.200000       7.3          0.0     5.890692     0\n",
      "\n",
      "\n"
     ]
    }
   ],
   "source": [
    "forecast_dict={}\n",
    "print(INPUT_FILENAME)\n",
    "for y in y_col:\n",
    "    merged_dict[y]['future']['ds']= pd.to_datetime(merged_dict[y]['future']['ds'], box=True, format= '%Y/%m/%d', exact=True)\n",
    "    merged_dict[y]['forecastProphetTable']['ds']= pd.to_datetime(merged_dict[y]['forecastProphetTable']['ds'], box=True, format= '%Y/%m/%d', exact=True)\n",
    "    forecast_dict[y]= prpt.extract_info_from(merged_dict[y]['future'], merged_dict[y]['forecastProphetTable'], varr.FORECASTDAY)\n",
    "    forecast_dict[y]['result_df']= pd.merge(forecast_dict[y]['result_df'], df_raw[['ds', y]], how='inner', on='ds')\n",
    "    print('RMSE with segment '+str(y)+': '+str(calc.rms_error(forecast_dict[y]['result_df'][y], forecast_dict[y]['result_df']['yhat'])))\n",
    "    print('MAPE with segment '+str(y)+': '+str(calc.map_error(forecast_dict[y]['result_df'][y], forecast_dict[y]['result_df']['yhat'])))\n",
    "    print('MAPE_with_std with segment '+str(y)+': '+str(calc.map_error_with_std(forecast_dict[y]['result_df'][y], forecast_dict[y]['result_df']['yhat'])))\n",
    "    print('MAPE_div_std with segment '+str(y)+': '+str(calc.map_error_div_std(forecast_dict[y]['result_df'][y], forecast_dict[y]['result_df']['yhat'])))\n",
    "    print('sMAPE of company code '+str(y)+': '+str(calc.smap_error(forecast_dict[y]['result_df'][y], forecast_dict[y]['result_df']['yhat'])))\n",
    "    print(forecast_dict[y]['result_df'].head())\n",
    "    ft_c.save_as_xlsx(varr.PJ_DIR+varr.DF_DIR, forecast_dict[y]['result_df'], INPUT_FILENAME, '_seg'+str(y)+'withweekday')\n",
    "    print('\\n')"
   ]
  },
  {
   "cell_type": "code",
   "execution_count": 23,
   "metadata": {
    "collapsed": true
   },
   "outputs": [],
   "source": [
    "# result_dict[y]['sun']['model'].plot(result_dict[y]['sun']['forecastProphetTable'])"
   ]
  },
  {
   "cell_type": "code",
   "execution_count": 24,
   "metadata": {
    "collapsed": true
   },
   "outputs": [],
   "source": [
    "# result_dict[y]['sun']['model'].plot_components(result_dict[y]['sun']['forecastProphetTable'])"
   ]
  }
 ],
 "metadata": {
  "kernelspec": {
   "display_name": "Python 3",
   "language": "python",
   "name": "python3"
  },
  "language_info": {
   "codemirror_mode": {
    "name": "ipython",
    "version": 3
   },
   "file_extension": ".py",
   "mimetype": "text/x-python",
   "name": "python",
   "nbconvert_exporter": "python",
   "pygments_lexer": "ipython3",
   "version": "3.6.1"
  }
 },
 "nbformat": 4,
 "nbformat_minor": 2
}
