{
 "cells": [
  {
   "cell_type": "code",
   "execution_count": 1,
   "metadata": {
    "collapsed": true
   },
   "outputs": [],
   "source": [
    "from _element import feature_control as ft_c\n",
    "\n",
    "from _element import varr\n",
    "\n",
    "import pandas as pd\n",
    "import numpy as np\n",
    "\n",
    "from datetime import datetime\n",
    "\n",
    "import os, sys\n",
    "\n",
    "path_name= 'c:\\\\Studying\\\\Project_Nextop\\\\nextop-engine\\\\nextop_engine'\n",
    "sys.path.append(path_name)"
   ]
  },
  {
   "cell_type": "code",
   "execution_count": 23,
   "metadata": {
    "collapsed": true
   },
   "outputs": [],
   "source": [
    "df_raw= ft_c.xlsx_opener(path_name+'\\\\_element\\\\data\\\\private\\\\', 'KPP일별투입(10_17).xlsx')"
   ]
  },
  {
   "cell_type": "code",
   "execution_count": 24,
   "metadata": {},
   "outputs": [
    {
     "name": "stdout",
     "output_type": "stream",
     "text": [
      "<class 'pandas.core.frame.DataFrame'>\n",
      "Int64Index: 1300503 entries, 0 to 189668\n",
      "Data columns (total 6 columns):\n",
      "구분     1300503 non-null object\n",
      "타입     1300503 non-null object\n",
      "코드     1300503 non-null int64\n",
      "발송일    1300503 non-null int64\n",
      "유형     1300503 non-null int64\n",
      "수량     1300503 non-null int64\n",
      "dtypes: int64(4), object(2)\n",
      "memory usage: 69.5+ MB\n"
     ]
    }
   ],
   "source": [
    "df_raw.info()"
   ]
  },
  {
   "cell_type": "code",
   "execution_count": 25,
   "metadata": {
    "collapsed": true
   },
   "outputs": [],
   "source": [
    "ft_c.colname(df_raw, {'발송일': 'ds', '수량': 'y'})"
   ]
  },
  {
   "cell_type": "code",
   "execution_count": 26,
   "metadata": {},
   "outputs": [
    {
     "data": {
      "text/html": [
       "<div>\n",
       "<style>\n",
       "    .dataframe thead tr:only-child th {\n",
       "        text-align: right;\n",
       "    }\n",
       "\n",
       "    .dataframe thead th {\n",
       "        text-align: left;\n",
       "    }\n",
       "\n",
       "    .dataframe tbody tr th {\n",
       "        vertical-align: top;\n",
       "    }\n",
       "</style>\n",
       "<table border=\"1\" class=\"dataframe\">\n",
       "  <thead>\n",
       "    <tr style=\"text-align: right;\">\n",
       "      <th></th>\n",
       "      <th>구분</th>\n",
       "      <th>타입</th>\n",
       "      <th>코드</th>\n",
       "      <th>ds</th>\n",
       "      <th>유형</th>\n",
       "      <th>y</th>\n",
       "    </tr>\n",
       "  </thead>\n",
       "  <tbody>\n",
       "    <tr>\n",
       "      <th>0</th>\n",
       "      <td>계약처</td>\n",
       "      <td>납품(직송포함)</td>\n",
       "      <td>298141</td>\n",
       "      <td>20100101</td>\n",
       "      <td>1815</td>\n",
       "      <td>8</td>\n",
       "    </tr>\n",
       "    <tr>\n",
       "      <th>1</th>\n",
       "      <td>계약처</td>\n",
       "      <td>납품(직송포함)</td>\n",
       "      <td>296285</td>\n",
       "      <td>20100101</td>\n",
       "      <td>1815</td>\n",
       "      <td>20</td>\n",
       "    </tr>\n",
       "    <tr>\n",
       "      <th>2</th>\n",
       "      <td>계약처</td>\n",
       "      <td>납품(직송포함)</td>\n",
       "      <td>295537</td>\n",
       "      <td>20100101</td>\n",
       "      <td>1815</td>\n",
       "      <td>4</td>\n",
       "    </tr>\n",
       "    <tr>\n",
       "      <th>3</th>\n",
       "      <td>계약처</td>\n",
       "      <td>납품(직송포함)</td>\n",
       "      <td>294932</td>\n",
       "      <td>20100101</td>\n",
       "      <td>1815</td>\n",
       "      <td>10</td>\n",
       "    </tr>\n",
       "    <tr>\n",
       "      <th>4</th>\n",
       "      <td>계약처</td>\n",
       "      <td>납품(직송포함)</td>\n",
       "      <td>294837</td>\n",
       "      <td>20100101</td>\n",
       "      <td>1815</td>\n",
       "      <td>10</td>\n",
       "    </tr>\n",
       "  </tbody>\n",
       "</table>\n",
       "</div>"
      ],
      "text/plain": [
       "    구분        타입      코드        ds    유형   y\n",
       "0  계약처  납품(직송포함)  298141  20100101  1815   8\n",
       "1  계약처  납품(직송포함)  296285  20100101  1815  20\n",
       "2  계약처  납품(직송포함)  295537  20100101  1815   4\n",
       "3  계약처  납품(직송포함)  294932  20100101  1815  10\n",
       "4  계약처  납품(직송포함)  294837  20100101  1815  10"
      ]
     },
     "execution_count": 26,
     "metadata": {},
     "output_type": "execute_result"
    }
   ],
   "source": [
    "df_raw.head()"
   ]
  },
  {
   "cell_type": "code",
   "execution_count": 27,
   "metadata": {
    "collapsed": true
   },
   "outputs": [],
   "source": [
    "df_raw= ft_c.struct(df_raw, 'ds', '코드', 'y')"
   ]
  },
  {
   "cell_type": "code",
   "execution_count": 28,
   "metadata": {
    "collapsed": true
   },
   "outputs": [],
   "source": [
    "df_raw.columns.name= None"
   ]
  },
  {
   "cell_type": "code",
   "execution_count": 29,
   "metadata": {
    "collapsed": true
   },
   "outputs": [],
   "source": [
    "df_raw.reset_index(drop= False, inplace= True)"
   ]
  },
  {
   "cell_type": "code",
   "execution_count": 30,
   "metadata": {
    "collapsed": true
   },
   "outputs": [],
   "source": [
    "df_raw['ds']= df_raw['ds'].apply(str).apply(lambda x: datetime(int(x[:4]),int(x[4:6]),int(x[6:])))"
   ]
  },
  {
   "cell_type": "code",
   "execution_count": 31,
   "metadata": {},
   "outputs": [
    {
     "data": {
      "text/html": [
       "<div>\n",
       "<style>\n",
       "    .dataframe thead tr:only-child th {\n",
       "        text-align: right;\n",
       "    }\n",
       "\n",
       "    .dataframe thead th {\n",
       "        text-align: left;\n",
       "    }\n",
       "\n",
       "    .dataframe tbody tr th {\n",
       "        vertical-align: top;\n",
       "    }\n",
       "</style>\n",
       "<table border=\"1\" class=\"dataframe\">\n",
       "  <thead>\n",
       "    <tr style=\"text-align: right;\">\n",
       "      <th></th>\n",
       "      <th>ds</th>\n",
       "      <th>219733</th>\n",
       "      <th>219736</th>\n",
       "      <th>219740</th>\n",
       "      <th>219744</th>\n",
       "      <th>219755</th>\n",
       "      <th>219758</th>\n",
       "      <th>219762</th>\n",
       "      <th>219766</th>\n",
       "      <th>219769</th>\n",
       "      <th>...</th>\n",
       "      <th>298122</th>\n",
       "      <th>298126</th>\n",
       "      <th>298130</th>\n",
       "      <th>298137</th>\n",
       "      <th>298141</th>\n",
       "      <th>298148</th>\n",
       "      <th>298152</th>\n",
       "      <th>298163</th>\n",
       "      <th>298166</th>\n",
       "      <th>y_sum</th>\n",
       "    </tr>\n",
       "  </thead>\n",
       "  <tbody>\n",
       "    <tr>\n",
       "      <th>0</th>\n",
       "      <td>2010-01-01</td>\n",
       "      <td>0.0</td>\n",
       "      <td>0.0</td>\n",
       "      <td>0.0</td>\n",
       "      <td>0.0</td>\n",
       "      <td>0.0</td>\n",
       "      <td>0.0</td>\n",
       "      <td>0.0</td>\n",
       "      <td>0.0</td>\n",
       "      <td>0.0</td>\n",
       "      <td>...</td>\n",
       "      <td>0.0</td>\n",
       "      <td>0.0</td>\n",
       "      <td>0.0</td>\n",
       "      <td>0.0</td>\n",
       "      <td>8.0</td>\n",
       "      <td>0.0</td>\n",
       "      <td>0.0</td>\n",
       "      <td>0.0</td>\n",
       "      <td>0.0</td>\n",
       "      <td>2662.0</td>\n",
       "    </tr>\n",
       "    <tr>\n",
       "      <th>1</th>\n",
       "      <td>2010-01-02</td>\n",
       "      <td>0.0</td>\n",
       "      <td>0.0</td>\n",
       "      <td>0.0</td>\n",
       "      <td>0.0</td>\n",
       "      <td>0.0</td>\n",
       "      <td>0.0</td>\n",
       "      <td>0.0</td>\n",
       "      <td>0.0</td>\n",
       "      <td>256.0</td>\n",
       "      <td>...</td>\n",
       "      <td>0.0</td>\n",
       "      <td>0.0</td>\n",
       "      <td>0.0</td>\n",
       "      <td>0.0</td>\n",
       "      <td>192.0</td>\n",
       "      <td>0.0</td>\n",
       "      <td>80.0</td>\n",
       "      <td>0.0</td>\n",
       "      <td>0.0</td>\n",
       "      <td>39352.0</td>\n",
       "    </tr>\n",
       "    <tr>\n",
       "      <th>2</th>\n",
       "      <td>2010-01-03</td>\n",
       "      <td>0.0</td>\n",
       "      <td>0.0</td>\n",
       "      <td>0.0</td>\n",
       "      <td>0.0</td>\n",
       "      <td>0.0</td>\n",
       "      <td>0.0</td>\n",
       "      <td>0.0</td>\n",
       "      <td>0.0</td>\n",
       "      <td>0.0</td>\n",
       "      <td>...</td>\n",
       "      <td>0.0</td>\n",
       "      <td>0.0</td>\n",
       "      <td>0.0</td>\n",
       "      <td>0.0</td>\n",
       "      <td>0.0</td>\n",
       "      <td>0.0</td>\n",
       "      <td>0.0</td>\n",
       "      <td>0.0</td>\n",
       "      <td>0.0</td>\n",
       "      <td>404.0</td>\n",
       "    </tr>\n",
       "    <tr>\n",
       "      <th>3</th>\n",
       "      <td>2010-01-04</td>\n",
       "      <td>0.0</td>\n",
       "      <td>0.0</td>\n",
       "      <td>0.0</td>\n",
       "      <td>0.0</td>\n",
       "      <td>0.0</td>\n",
       "      <td>0.0</td>\n",
       "      <td>278.0</td>\n",
       "      <td>0.0</td>\n",
       "      <td>0.0</td>\n",
       "      <td>...</td>\n",
       "      <td>0.0</td>\n",
       "      <td>0.0</td>\n",
       "      <td>0.0</td>\n",
       "      <td>0.0</td>\n",
       "      <td>0.0</td>\n",
       "      <td>0.0</td>\n",
       "      <td>0.0</td>\n",
       "      <td>0.0</td>\n",
       "      <td>0.0</td>\n",
       "      <td>44906.0</td>\n",
       "    </tr>\n",
       "    <tr>\n",
       "      <th>4</th>\n",
       "      <td>2010-01-05</td>\n",
       "      <td>0.0</td>\n",
       "      <td>0.0</td>\n",
       "      <td>0.0</td>\n",
       "      <td>0.0</td>\n",
       "      <td>0.0</td>\n",
       "      <td>0.0</td>\n",
       "      <td>0.0</td>\n",
       "      <td>0.0</td>\n",
       "      <td>0.0</td>\n",
       "      <td>...</td>\n",
       "      <td>0.0</td>\n",
       "      <td>0.0</td>\n",
       "      <td>0.0</td>\n",
       "      <td>0.0</td>\n",
       "      <td>0.0</td>\n",
       "      <td>0.0</td>\n",
       "      <td>0.0</td>\n",
       "      <td>0.0</td>\n",
       "      <td>0.0</td>\n",
       "      <td>69481.0</td>\n",
       "    </tr>\n",
       "  </tbody>\n",
       "</table>\n",
       "<p>5 rows × 13816 columns</p>\n",
       "</div>"
      ],
      "text/plain": [
       "          ds  219733  219736  219740  219744  219755  219758  219762  219766  \\\n",
       "0 2010-01-01     0.0     0.0     0.0     0.0     0.0     0.0     0.0     0.0   \n",
       "1 2010-01-02     0.0     0.0     0.0     0.0     0.0     0.0     0.0     0.0   \n",
       "2 2010-01-03     0.0     0.0     0.0     0.0     0.0     0.0     0.0     0.0   \n",
       "3 2010-01-04     0.0     0.0     0.0     0.0     0.0     0.0   278.0     0.0   \n",
       "4 2010-01-05     0.0     0.0     0.0     0.0     0.0     0.0     0.0     0.0   \n",
       "\n",
       "   219769   ...     298122  298126  298130  298137  298141  298148  298152  \\\n",
       "0     0.0   ...        0.0     0.0     0.0     0.0     8.0     0.0     0.0   \n",
       "1   256.0   ...        0.0     0.0     0.0     0.0   192.0     0.0    80.0   \n",
       "2     0.0   ...        0.0     0.0     0.0     0.0     0.0     0.0     0.0   \n",
       "3     0.0   ...        0.0     0.0     0.0     0.0     0.0     0.0     0.0   \n",
       "4     0.0   ...        0.0     0.0     0.0     0.0     0.0     0.0     0.0   \n",
       "\n",
       "   298163  298166    y_sum  \n",
       "0     0.0     0.0   2662.0  \n",
       "1     0.0     0.0  39352.0  \n",
       "2     0.0     0.0    404.0  \n",
       "3     0.0     0.0  44906.0  \n",
       "4     0.0     0.0  69481.0  \n",
       "\n",
       "[5 rows x 13816 columns]"
      ]
     },
     "execution_count": 31,
     "metadata": {},
     "output_type": "execute_result"
    }
   ],
   "source": [
    "df_raw.head()"
   ]
  },
  {
   "cell_type": "code",
   "execution_count": 32,
   "metadata": {
    "collapsed": true
   },
   "outputs": [],
   "source": [
    "df_idx= df_raw.sum(axis=0)"
   ]
  },
  {
   "cell_type": "code",
   "execution_count": 33,
   "metadata": {},
   "outputs": [
    {
     "data": {
      "text/plain": [
       "y_sum     216661942.0\n",
       "247467      4595841.0\n",
       "230054      2677590.0\n",
       "265812      2522002.0\n",
       "227645      2342989.0\n",
       "269255      2075299.0\n",
       "283639      2055631.0\n",
       "289806      1900474.0\n",
       "230223      1815663.0\n",
       "296502      1677867.0\n",
       "221797      1655241.0\n",
       "230117      1611108.0\n",
       "290052      1504135.0\n",
       "230813      1481605.0\n",
       "293275      1428578.0\n",
       "297939      1379180.0\n",
       "298064      1358539.0\n",
       "230183      1308804.0\n",
       "272415      1178540.0\n",
       "296498      1102388.0\n",
       "295893      1006426.0\n",
       "266182       936897.0\n",
       "288600       928448.0\n",
       "230828       887496.0\n",
       "266186       887122.0\n",
       "247464       878677.0\n",
       "280137       864819.0\n",
       "230491       863472.0\n",
       "287694       859929.0\n",
       "230791       846491.0\n",
       "             ...     \n",
       "225753            2.0\n",
       "241392            2.0\n",
       "247790            2.0\n",
       "262361            2.0\n",
       "281281            2.0\n",
       "260125            2.0\n",
       "238612            2.0\n",
       "247662            2.0\n",
       "291119            2.0\n",
       "231642            2.0\n",
       "271407            2.0\n",
       "270545            2.0\n",
       "244662            2.0\n",
       "219920            2.0\n",
       "260029            2.0\n",
       "270879            2.0\n",
       "247233            2.0\n",
       "244959            2.0\n",
       "256751            2.0\n",
       "252736            1.0\n",
       "225647            1.0\n",
       "279503            1.0\n",
       "268892            1.0\n",
       "247775            1.0\n",
       "234150            1.0\n",
       "235822            1.0\n",
       "236207            1.0\n",
       "251152            1.0\n",
       "241667            1.0\n",
       "232185            1.0\n",
       "Length: 13815, dtype: float64"
      ]
     },
     "execution_count": 33,
     "metadata": {},
     "output_type": "execute_result"
    }
   ],
   "source": [
    "df_idx.sort_values(ascending=False)"
   ]
  },
  {
   "cell_type": "code",
   "execution_count": 34,
   "metadata": {
    "collapsed": true
   },
   "outputs": [],
   "source": [
    "df_max7= df_raw.drop('ds', axis=1)"
   ]
  },
  {
   "cell_type": "code",
   "execution_count": 35,
   "metadata": {
    "collapsed": true
   },
   "outputs": [],
   "source": [
    "df_max7= df_max7.loc[:, np.where(df_idx>2000000, True, False)]"
   ]
  },
  {
   "cell_type": "code",
   "execution_count": 36,
   "metadata": {
    "collapsed": true
   },
   "outputs": [],
   "source": [
    "df_max7.drop('y_sum', axis= 1, inplace= True)"
   ]
  },
  {
   "cell_type": "code",
   "execution_count": 37,
   "metadata": {
    "collapsed": true
   },
   "outputs": [],
   "source": [
    "df_max7['ds']= df_raw['ds']"
   ]
  },
  {
   "cell_type": "code",
   "execution_count": 38,
   "metadata": {
    "collapsed": true
   },
   "outputs": [],
   "source": [
    "colname= df_max7.columns.tolist()"
   ]
  },
  {
   "cell_type": "code",
   "execution_count": 39,
   "metadata": {
    "collapsed": true
   },
   "outputs": [],
   "source": [
    "colname= colname[-1:]+colname[:-1]"
   ]
  },
  {
   "cell_type": "code",
   "execution_count": 40,
   "metadata": {
    "collapsed": true
   },
   "outputs": [],
   "source": [
    "df_max7= df_max7[colname]"
   ]
  },
  {
   "cell_type": "code",
   "execution_count": 41,
   "metadata": {},
   "outputs": [
    {
     "data": {
      "text/plain": [
       "227645    2342989.0\n",
       "230054    2677590.0\n",
       "247467    4595841.0\n",
       "265812    2522002.0\n",
       "269255    2075299.0\n",
       "283639    2055631.0\n",
       "dtype: float64"
      ]
     },
     "execution_count": 41,
     "metadata": {},
     "output_type": "execute_result"
    }
   ],
   "source": [
    "df_max7.sum(axis=0)"
   ]
  },
  {
   "cell_type": "code",
   "execution_count": 42,
   "metadata": {
    "collapsed": true
   },
   "outputs": [],
   "source": [
    "ft_c.save_as_xlsx(path_name+'\\\\_element\\\\data\\\\private\\\\', df_max7, 'KPP일별투입(10_17).xlsx', '_withcompanycode')"
   ]
  },
  {
   "cell_type": "code",
   "execution_count": null,
   "metadata": {
    "collapsed": true
   },
   "outputs": [],
   "source": []
  }
 ],
 "metadata": {
  "kernelspec": {
   "display_name": "Python 3",
   "language": "python",
   "name": "python3"
  },
  "language_info": {
   "codemirror_mode": {
    "name": "ipython",
    "version": 3
   },
   "file_extension": ".py",
   "mimetype": "text/x-python",
   "name": "python",
   "nbconvert_exporter": "python",
   "pygments_lexer": "ipython3",
   "version": "3.6.1"
  }
 },
 "nbformat": 4,
 "nbformat_minor": 2
}
